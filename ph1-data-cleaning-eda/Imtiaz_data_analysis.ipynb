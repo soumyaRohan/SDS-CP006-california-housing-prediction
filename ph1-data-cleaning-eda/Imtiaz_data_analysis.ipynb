{
  "nbformat": 4,
  "nbformat_minor": 0,
  "metadata": {
    "colab": {
      "provenance": []
    },
    "kernelspec": {
      "name": "python3",
      "display_name": "Python 3"
    },
    "language_info": {
      "name": "python"
    }
  },
  "cells": [
    {
      "cell_type": "markdown",
      "source": [
        "# STEP 1: Importing dataset directly from Kaggle into Colab"
      ],
      "metadata": {
        "id": "-dPk5U4B_D2G"
      }
    },
    {
      "cell_type": "code",
      "execution_count": 2,
      "metadata": {
        "id": "iz8wOSNI0sJo",
        "colab": {
          "base_uri": "https://localhost:8080/"
        },
        "outputId": "686fbc73-a4c7-4b07-ca71-a61e6894c575"
      },
      "outputs": [
        {
          "output_type": "stream",
          "name": "stdout",
          "text": [
            "Collecting opendatasets\n",
            "  Downloading opendatasets-0.1.22-py3-none-any.whl.metadata (9.2 kB)\n",
            "Requirement already satisfied: tqdm in /usr/local/lib/python3.10/dist-packages (from opendatasets) (4.66.5)\n",
            "Requirement already satisfied: kaggle in /usr/local/lib/python3.10/dist-packages (from opendatasets) (1.6.17)\n",
            "Requirement already satisfied: click in /usr/local/lib/python3.10/dist-packages (from opendatasets) (8.1.7)\n",
            "Requirement already satisfied: six>=1.10 in /usr/local/lib/python3.10/dist-packages (from kaggle->opendatasets) (1.16.0)\n",
            "Requirement already satisfied: certifi>=2023.7.22 in /usr/local/lib/python3.10/dist-packages (from kaggle->opendatasets) (2024.8.30)\n",
            "Requirement already satisfied: python-dateutil in /usr/local/lib/python3.10/dist-packages (from kaggle->opendatasets) (2.8.2)\n",
            "Requirement already satisfied: requests in /usr/local/lib/python3.10/dist-packages (from kaggle->opendatasets) (2.32.3)\n",
            "Requirement already satisfied: python-slugify in /usr/local/lib/python3.10/dist-packages (from kaggle->opendatasets) (8.0.4)\n",
            "Requirement already satisfied: urllib3 in /usr/local/lib/python3.10/dist-packages (from kaggle->opendatasets) (2.0.7)\n",
            "Requirement already satisfied: bleach in /usr/local/lib/python3.10/dist-packages (from kaggle->opendatasets) (6.1.0)\n",
            "Requirement already satisfied: webencodings in /usr/local/lib/python3.10/dist-packages (from bleach->kaggle->opendatasets) (0.5.1)\n",
            "Requirement already satisfied: text-unidecode>=1.3 in /usr/local/lib/python3.10/dist-packages (from python-slugify->kaggle->opendatasets) (1.3)\n",
            "Requirement already satisfied: charset-normalizer<4,>=2 in /usr/local/lib/python3.10/dist-packages (from requests->kaggle->opendatasets) (3.3.2)\n",
            "Requirement already satisfied: idna<4,>=2.5 in /usr/local/lib/python3.10/dist-packages (from requests->kaggle->opendatasets) (3.8)\n",
            "Downloading opendatasets-0.1.22-py3-none-any.whl (15 kB)\n",
            "Installing collected packages: opendatasets\n",
            "Successfully installed opendatasets-0.1.22\n",
            "Please provide your Kaggle credentials to download this dataset. Learn more: http://bit.ly/kaggle-creds\n",
            "Your Kaggle username: syedimtiazmir\n",
            "Your Kaggle Key: ··········\n",
            "Dataset URL: https://www.kaggle.com/datasets/yellowj4acket/real-estate-california\n",
            "Downloading real-estate-california.zip to ./real-estate-california\n"
          ]
        },
        {
          "output_type": "stream",
          "name": "stderr",
          "text": [
            "100%|██████████| 11.4M/11.4M [00:00<00:00, 63.8MB/s]"
          ]
        },
        {
          "output_type": "stream",
          "name": "stdout",
          "text": [
            "\n"
          ]
        },
        {
          "output_type": "stream",
          "name": "stderr",
          "text": [
            "\n"
          ]
        }
      ],
      "source": [
        "# Code to import dataset directly from Kaggle into Colab\n",
        "# Need to have Kaggle user name and API token key (which may expire so new API token key might need to be generated)\n",
        "\n",
        "!pip install opendatasets\n",
        "import opendatasets as od\n",
        "od.download(\"https://www.kaggle.com/datasets/yellowj4acket/real-estate-california\")\n"
      ]
    },
    {
      "cell_type": "code",
      "source": [
        "# Import necessary libraries\n",
        "import pandas as pd\n",
        "import numpy as np\n",
        "import matplotlib.pyplot as plt\n",
        "import seaborn as sns\n",
        "\n",
        "pd.set_option('display.width', 1000) # to avoid wrapping of output\n",
        "\n",
        "# load the dataset\n",
        "data = pd.read_csv('/content/real-estate-california/RealEstate_California.csv')\n",
        "\n",
        "data.head()\n",
        "\n"
      ],
      "metadata": {
        "id": "OZAyDjZ04PJI",
        "colab": {
          "base_uri": "https://localhost:8080/",
          "height": 446
        },
        "outputId": "441a64cd-7dad-4d12-deec-d74c4714fdc0"
      },
      "execution_count": 3,
      "outputs": [
        {
          "output_type": "execute_result",
          "data": {
            "text/plain": [
              "   Unnamed: 0                id  stateId  countyId  cityId country datePostedString  is_bankOwned  is_forAuction            event  ...  parking  garageSpaces  hasGarage     levels pool  spa isNewConstruction  hasPetsAllowed       homeType               county\n",
              "0           0  95717-2087851113        9        77   24895     USA       2021-01-13             0              0  Listed for sale  ...        0           0.0          0          0    0    0                 0               0            LOT        Placer County\n",
              "1           1    94564-18496265        9       189   36958     USA       2021-07-12             0              0  Listed for sale  ...        1           2.0          1  One Story    0    0                 0               0  SINGLE_FAMILY  Contra Costa County\n",
              "2           2    94564-18484475        9       190   36958     USA       2021-07-08             0              0  Listed for sale  ...        1           2.0          1  One Story    0    0                 0               0  SINGLE_FAMILY  Contra Costa County\n",
              "3           3    94564-18494835        9       191   36958     USA       2021-07-07             0              0  Listed for sale  ...        1           1.0          1  Two Story    0    1                 0               0  SINGLE_FAMILY  Contra Costa County\n",
              "4           4  94564-2069722747        9       192   36958     USA       2021-07-07             0              0  Listed for sale  ...        0           0.0          0          0    0    0                 0               0            LOT  Contra Costa County\n",
              "\n",
              "[5 rows x 39 columns]"
            ],
            "text/html": [
              "\n",
              "  <div id=\"df-fa793c07-b67c-4b26-b4e0-79313e9eae40\" class=\"colab-df-container\">\n",
              "    <div>\n",
              "<style scoped>\n",
              "    .dataframe tbody tr th:only-of-type {\n",
              "        vertical-align: middle;\n",
              "    }\n",
              "\n",
              "    .dataframe tbody tr th {\n",
              "        vertical-align: top;\n",
              "    }\n",
              "\n",
              "    .dataframe thead th {\n",
              "        text-align: right;\n",
              "    }\n",
              "</style>\n",
              "<table border=\"1\" class=\"dataframe\">\n",
              "  <thead>\n",
              "    <tr style=\"text-align: right;\">\n",
              "      <th></th>\n",
              "      <th>Unnamed: 0</th>\n",
              "      <th>id</th>\n",
              "      <th>stateId</th>\n",
              "      <th>countyId</th>\n",
              "      <th>cityId</th>\n",
              "      <th>country</th>\n",
              "      <th>datePostedString</th>\n",
              "      <th>is_bankOwned</th>\n",
              "      <th>is_forAuction</th>\n",
              "      <th>event</th>\n",
              "      <th>...</th>\n",
              "      <th>parking</th>\n",
              "      <th>garageSpaces</th>\n",
              "      <th>hasGarage</th>\n",
              "      <th>levels</th>\n",
              "      <th>pool</th>\n",
              "      <th>spa</th>\n",
              "      <th>isNewConstruction</th>\n",
              "      <th>hasPetsAllowed</th>\n",
              "      <th>homeType</th>\n",
              "      <th>county</th>\n",
              "    </tr>\n",
              "  </thead>\n",
              "  <tbody>\n",
              "    <tr>\n",
              "      <th>0</th>\n",
              "      <td>0</td>\n",
              "      <td>95717-2087851113</td>\n",
              "      <td>9</td>\n",
              "      <td>77</td>\n",
              "      <td>24895</td>\n",
              "      <td>USA</td>\n",
              "      <td>2021-01-13</td>\n",
              "      <td>0</td>\n",
              "      <td>0</td>\n",
              "      <td>Listed for sale</td>\n",
              "      <td>...</td>\n",
              "      <td>0</td>\n",
              "      <td>0.0</td>\n",
              "      <td>0</td>\n",
              "      <td>0</td>\n",
              "      <td>0</td>\n",
              "      <td>0</td>\n",
              "      <td>0</td>\n",
              "      <td>0</td>\n",
              "      <td>LOT</td>\n",
              "      <td>Placer County</td>\n",
              "    </tr>\n",
              "    <tr>\n",
              "      <th>1</th>\n",
              "      <td>1</td>\n",
              "      <td>94564-18496265</td>\n",
              "      <td>9</td>\n",
              "      <td>189</td>\n",
              "      <td>36958</td>\n",
              "      <td>USA</td>\n",
              "      <td>2021-07-12</td>\n",
              "      <td>0</td>\n",
              "      <td>0</td>\n",
              "      <td>Listed for sale</td>\n",
              "      <td>...</td>\n",
              "      <td>1</td>\n",
              "      <td>2.0</td>\n",
              "      <td>1</td>\n",
              "      <td>One Story</td>\n",
              "      <td>0</td>\n",
              "      <td>0</td>\n",
              "      <td>0</td>\n",
              "      <td>0</td>\n",
              "      <td>SINGLE_FAMILY</td>\n",
              "      <td>Contra Costa County</td>\n",
              "    </tr>\n",
              "    <tr>\n",
              "      <th>2</th>\n",
              "      <td>2</td>\n",
              "      <td>94564-18484475</td>\n",
              "      <td>9</td>\n",
              "      <td>190</td>\n",
              "      <td>36958</td>\n",
              "      <td>USA</td>\n",
              "      <td>2021-07-08</td>\n",
              "      <td>0</td>\n",
              "      <td>0</td>\n",
              "      <td>Listed for sale</td>\n",
              "      <td>...</td>\n",
              "      <td>1</td>\n",
              "      <td>2.0</td>\n",
              "      <td>1</td>\n",
              "      <td>One Story</td>\n",
              "      <td>0</td>\n",
              "      <td>0</td>\n",
              "      <td>0</td>\n",
              "      <td>0</td>\n",
              "      <td>SINGLE_FAMILY</td>\n",
              "      <td>Contra Costa County</td>\n",
              "    </tr>\n",
              "    <tr>\n",
              "      <th>3</th>\n",
              "      <td>3</td>\n",
              "      <td>94564-18494835</td>\n",
              "      <td>9</td>\n",
              "      <td>191</td>\n",
              "      <td>36958</td>\n",
              "      <td>USA</td>\n",
              "      <td>2021-07-07</td>\n",
              "      <td>0</td>\n",
              "      <td>0</td>\n",
              "      <td>Listed for sale</td>\n",
              "      <td>...</td>\n",
              "      <td>1</td>\n",
              "      <td>1.0</td>\n",
              "      <td>1</td>\n",
              "      <td>Two Story</td>\n",
              "      <td>0</td>\n",
              "      <td>1</td>\n",
              "      <td>0</td>\n",
              "      <td>0</td>\n",
              "      <td>SINGLE_FAMILY</td>\n",
              "      <td>Contra Costa County</td>\n",
              "    </tr>\n",
              "    <tr>\n",
              "      <th>4</th>\n",
              "      <td>4</td>\n",
              "      <td>94564-2069722747</td>\n",
              "      <td>9</td>\n",
              "      <td>192</td>\n",
              "      <td>36958</td>\n",
              "      <td>USA</td>\n",
              "      <td>2021-07-07</td>\n",
              "      <td>0</td>\n",
              "      <td>0</td>\n",
              "      <td>Listed for sale</td>\n",
              "      <td>...</td>\n",
              "      <td>0</td>\n",
              "      <td>0.0</td>\n",
              "      <td>0</td>\n",
              "      <td>0</td>\n",
              "      <td>0</td>\n",
              "      <td>0</td>\n",
              "      <td>0</td>\n",
              "      <td>0</td>\n",
              "      <td>LOT</td>\n",
              "      <td>Contra Costa County</td>\n",
              "    </tr>\n",
              "  </tbody>\n",
              "</table>\n",
              "<p>5 rows × 39 columns</p>\n",
              "</div>\n",
              "    <div class=\"colab-df-buttons\">\n",
              "\n",
              "  <div class=\"colab-df-container\">\n",
              "    <button class=\"colab-df-convert\" onclick=\"convertToInteractive('df-fa793c07-b67c-4b26-b4e0-79313e9eae40')\"\n",
              "            title=\"Convert this dataframe to an interactive table.\"\n",
              "            style=\"display:none;\">\n",
              "\n",
              "  <svg xmlns=\"http://www.w3.org/2000/svg\" height=\"24px\" viewBox=\"0 -960 960 960\">\n",
              "    <path d=\"M120-120v-720h720v720H120Zm60-500h600v-160H180v160Zm220 220h160v-160H400v160Zm0 220h160v-160H400v160ZM180-400h160v-160H180v160Zm440 0h160v-160H620v160ZM180-180h160v-160H180v160Zm440 0h160v-160H620v160Z\"/>\n",
              "  </svg>\n",
              "    </button>\n",
              "\n",
              "  <style>\n",
              "    .colab-df-container {\n",
              "      display:flex;\n",
              "      gap: 12px;\n",
              "    }\n",
              "\n",
              "    .colab-df-convert {\n",
              "      background-color: #E8F0FE;\n",
              "      border: none;\n",
              "      border-radius: 50%;\n",
              "      cursor: pointer;\n",
              "      display: none;\n",
              "      fill: #1967D2;\n",
              "      height: 32px;\n",
              "      padding: 0 0 0 0;\n",
              "      width: 32px;\n",
              "    }\n",
              "\n",
              "    .colab-df-convert:hover {\n",
              "      background-color: #E2EBFA;\n",
              "      box-shadow: 0px 1px 2px rgba(60, 64, 67, 0.3), 0px 1px 3px 1px rgba(60, 64, 67, 0.15);\n",
              "      fill: #174EA6;\n",
              "    }\n",
              "\n",
              "    .colab-df-buttons div {\n",
              "      margin-bottom: 4px;\n",
              "    }\n",
              "\n",
              "    [theme=dark] .colab-df-convert {\n",
              "      background-color: #3B4455;\n",
              "      fill: #D2E3FC;\n",
              "    }\n",
              "\n",
              "    [theme=dark] .colab-df-convert:hover {\n",
              "      background-color: #434B5C;\n",
              "      box-shadow: 0px 1px 3px 1px rgba(0, 0, 0, 0.15);\n",
              "      filter: drop-shadow(0px 1px 2px rgba(0, 0, 0, 0.3));\n",
              "      fill: #FFFFFF;\n",
              "    }\n",
              "  </style>\n",
              "\n",
              "    <script>\n",
              "      const buttonEl =\n",
              "        document.querySelector('#df-fa793c07-b67c-4b26-b4e0-79313e9eae40 button.colab-df-convert');\n",
              "      buttonEl.style.display =\n",
              "        google.colab.kernel.accessAllowed ? 'block' : 'none';\n",
              "\n",
              "      async function convertToInteractive(key) {\n",
              "        const element = document.querySelector('#df-fa793c07-b67c-4b26-b4e0-79313e9eae40');\n",
              "        const dataTable =\n",
              "          await google.colab.kernel.invokeFunction('convertToInteractive',\n",
              "                                                    [key], {});\n",
              "        if (!dataTable) return;\n",
              "\n",
              "        const docLinkHtml = 'Like what you see? Visit the ' +\n",
              "          '<a target=\"_blank\" href=https://colab.research.google.com/notebooks/data_table.ipynb>data table notebook</a>'\n",
              "          + ' to learn more about interactive tables.';\n",
              "        element.innerHTML = '';\n",
              "        dataTable['output_type'] = 'display_data';\n",
              "        await google.colab.output.renderOutput(dataTable, element);\n",
              "        const docLink = document.createElement('div');\n",
              "        docLink.innerHTML = docLinkHtml;\n",
              "        element.appendChild(docLink);\n",
              "      }\n",
              "    </script>\n",
              "  </div>\n",
              "\n",
              "\n",
              "<div id=\"df-034ca375-875b-49db-9fcc-21a7865f1f57\">\n",
              "  <button class=\"colab-df-quickchart\" onclick=\"quickchart('df-034ca375-875b-49db-9fcc-21a7865f1f57')\"\n",
              "            title=\"Suggest charts\"\n",
              "            style=\"display:none;\">\n",
              "\n",
              "<svg xmlns=\"http://www.w3.org/2000/svg\" height=\"24px\"viewBox=\"0 0 24 24\"\n",
              "     width=\"24px\">\n",
              "    <g>\n",
              "        <path d=\"M19 3H5c-1.1 0-2 .9-2 2v14c0 1.1.9 2 2 2h14c1.1 0 2-.9 2-2V5c0-1.1-.9-2-2-2zM9 17H7v-7h2v7zm4 0h-2V7h2v10zm4 0h-2v-4h2v4z\"/>\n",
              "    </g>\n",
              "</svg>\n",
              "  </button>\n",
              "\n",
              "<style>\n",
              "  .colab-df-quickchart {\n",
              "      --bg-color: #E8F0FE;\n",
              "      --fill-color: #1967D2;\n",
              "      --hover-bg-color: #E2EBFA;\n",
              "      --hover-fill-color: #174EA6;\n",
              "      --disabled-fill-color: #AAA;\n",
              "      --disabled-bg-color: #DDD;\n",
              "  }\n",
              "\n",
              "  [theme=dark] .colab-df-quickchart {\n",
              "      --bg-color: #3B4455;\n",
              "      --fill-color: #D2E3FC;\n",
              "      --hover-bg-color: #434B5C;\n",
              "      --hover-fill-color: #FFFFFF;\n",
              "      --disabled-bg-color: #3B4455;\n",
              "      --disabled-fill-color: #666;\n",
              "  }\n",
              "\n",
              "  .colab-df-quickchart {\n",
              "    background-color: var(--bg-color);\n",
              "    border: none;\n",
              "    border-radius: 50%;\n",
              "    cursor: pointer;\n",
              "    display: none;\n",
              "    fill: var(--fill-color);\n",
              "    height: 32px;\n",
              "    padding: 0;\n",
              "    width: 32px;\n",
              "  }\n",
              "\n",
              "  .colab-df-quickchart:hover {\n",
              "    background-color: var(--hover-bg-color);\n",
              "    box-shadow: 0 1px 2px rgba(60, 64, 67, 0.3), 0 1px 3px 1px rgba(60, 64, 67, 0.15);\n",
              "    fill: var(--button-hover-fill-color);\n",
              "  }\n",
              "\n",
              "  .colab-df-quickchart-complete:disabled,\n",
              "  .colab-df-quickchart-complete:disabled:hover {\n",
              "    background-color: var(--disabled-bg-color);\n",
              "    fill: var(--disabled-fill-color);\n",
              "    box-shadow: none;\n",
              "  }\n",
              "\n",
              "  .colab-df-spinner {\n",
              "    border: 2px solid var(--fill-color);\n",
              "    border-color: transparent;\n",
              "    border-bottom-color: var(--fill-color);\n",
              "    animation:\n",
              "      spin 1s steps(1) infinite;\n",
              "  }\n",
              "\n",
              "  @keyframes spin {\n",
              "    0% {\n",
              "      border-color: transparent;\n",
              "      border-bottom-color: var(--fill-color);\n",
              "      border-left-color: var(--fill-color);\n",
              "    }\n",
              "    20% {\n",
              "      border-color: transparent;\n",
              "      border-left-color: var(--fill-color);\n",
              "      border-top-color: var(--fill-color);\n",
              "    }\n",
              "    30% {\n",
              "      border-color: transparent;\n",
              "      border-left-color: var(--fill-color);\n",
              "      border-top-color: var(--fill-color);\n",
              "      border-right-color: var(--fill-color);\n",
              "    }\n",
              "    40% {\n",
              "      border-color: transparent;\n",
              "      border-right-color: var(--fill-color);\n",
              "      border-top-color: var(--fill-color);\n",
              "    }\n",
              "    60% {\n",
              "      border-color: transparent;\n",
              "      border-right-color: var(--fill-color);\n",
              "    }\n",
              "    80% {\n",
              "      border-color: transparent;\n",
              "      border-right-color: var(--fill-color);\n",
              "      border-bottom-color: var(--fill-color);\n",
              "    }\n",
              "    90% {\n",
              "      border-color: transparent;\n",
              "      border-bottom-color: var(--fill-color);\n",
              "    }\n",
              "  }\n",
              "</style>\n",
              "\n",
              "  <script>\n",
              "    async function quickchart(key) {\n",
              "      const quickchartButtonEl =\n",
              "        document.querySelector('#' + key + ' button');\n",
              "      quickchartButtonEl.disabled = true;  // To prevent multiple clicks.\n",
              "      quickchartButtonEl.classList.add('colab-df-spinner');\n",
              "      try {\n",
              "        const charts = await google.colab.kernel.invokeFunction(\n",
              "            'suggestCharts', [key], {});\n",
              "      } catch (error) {\n",
              "        console.error('Error during call to suggestCharts:', error);\n",
              "      }\n",
              "      quickchartButtonEl.classList.remove('colab-df-spinner');\n",
              "      quickchartButtonEl.classList.add('colab-df-quickchart-complete');\n",
              "    }\n",
              "    (() => {\n",
              "      let quickchartButtonEl =\n",
              "        document.querySelector('#df-034ca375-875b-49db-9fcc-21a7865f1f57 button');\n",
              "      quickchartButtonEl.style.display =\n",
              "        google.colab.kernel.accessAllowed ? 'block' : 'none';\n",
              "    })();\n",
              "  </script>\n",
              "</div>\n",
              "\n",
              "    </div>\n",
              "  </div>\n"
            ],
            "application/vnd.google.colaboratory.intrinsic+json": {
              "type": "dataframe",
              "variable_name": "data"
            }
          },
          "metadata": {},
          "execution_count": 3
        }
      ]
    },
    {
      "cell_type": "code",
      "source": [
        "# info about dataset\n",
        "data.shape"
      ],
      "metadata": {
        "colab": {
          "base_uri": "https://localhost:8080/"
        },
        "id": "mnLY1oD_-nPZ",
        "outputId": "9b6b48d1-fee6-407d-82f1-2d9f1872c554"
      },
      "execution_count": 4,
      "outputs": [
        {
          "output_type": "execute_result",
          "data": {
            "text/plain": [
              "(35389, 39)"
            ]
          },
          "metadata": {},
          "execution_count": 4
        }
      ]
    },
    {
      "cell_type": "code",
      "source": [
        "data.info()"
      ],
      "metadata": {
        "colab": {
          "base_uri": "https://localhost:8080/"
        },
        "id": "_AFCIlKKLgVP",
        "outputId": "e21d491f-68cc-45a5-cd70-c0c783898b36"
      },
      "execution_count": 5,
      "outputs": [
        {
          "output_type": "stream",
          "name": "stdout",
          "text": [
            "<class 'pandas.core.frame.DataFrame'>\n",
            "RangeIndex: 35389 entries, 0 to 35388\n",
            "Data columns (total 39 columns):\n",
            " #   Column              Non-Null Count  Dtype  \n",
            "---  ------              --------------  -----  \n",
            " 0   Unnamed: 0          35389 non-null  int64  \n",
            " 1   id                  35389 non-null  object \n",
            " 2   stateId             35389 non-null  int64  \n",
            " 3   countyId            35389 non-null  int64  \n",
            " 4   cityId              35389 non-null  int64  \n",
            " 5   country             35389 non-null  object \n",
            " 6   datePostedString    35386 non-null  object \n",
            " 7   is_bankOwned        35389 non-null  int64  \n",
            " 8   is_forAuction       35389 non-null  int64  \n",
            " 9   event               35100 non-null  object \n",
            " 10  time                35100 non-null  float64\n",
            " 11  price               35389 non-null  float64\n",
            " 12  pricePerSquareFoot  35389 non-null  float64\n",
            " 13  city                35389 non-null  object \n",
            " 14  state               35389 non-null  object \n",
            " 15  yearBuilt           35389 non-null  int64  \n",
            " 16  streetAddress       35388 non-null  object \n",
            " 17  zipcode             35364 non-null  float64\n",
            " 18  longitude           35389 non-null  float64\n",
            " 19  latitude            35389 non-null  float64\n",
            " 20  hasBadGeocode       35389 non-null  int64  \n",
            " 21  description         35110 non-null  object \n",
            " 22  currency            35389 non-null  object \n",
            " 23  livingArea          35389 non-null  float64\n",
            " 24  livingAreaValue     35389 non-null  float64\n",
            " 25  lotAreaUnits        35389 non-null  object \n",
            " 26  bathrooms           35389 non-null  float64\n",
            " 27  bedrooms            35389 non-null  float64\n",
            " 28  buildingArea        35389 non-null  float64\n",
            " 29  parking             35389 non-null  int64  \n",
            " 30  garageSpaces        35389 non-null  float64\n",
            " 31  hasGarage           35389 non-null  int64  \n",
            " 32  levels              35389 non-null  object \n",
            " 33  pool                35389 non-null  int64  \n",
            " 34  spa                 35389 non-null  int64  \n",
            " 35  isNewConstruction   35389 non-null  int64  \n",
            " 36  hasPetsAllowed      35389 non-null  int64  \n",
            " 37  homeType            35389 non-null  object \n",
            " 38  county              35389 non-null  object \n",
            "dtypes: float64(12), int64(14), object(13)\n",
            "memory usage: 10.5+ MB\n"
          ]
        }
      ]
    },
    {
      "cell_type": "markdown",
      "source": [
        "# Step 2: Identifying columns to be dropped\n",
        "  * a. Columns which have data that have no relevance to price prediction e.g. Serial # (Unnamed: 0), id, time\n",
        "  * b. Columns which have only one value in the dataset\n",
        "  * c. Columns which only have limited value instances e.g. is_bankOwned\n",
        "  * d. Columns which have duplicate information e.g. countyId (county), cityId (city), livingArea (livingAreaValue), buildingArea (overlapping values with livingAreaValue)"
      ],
      "metadata": {
        "id": "X1obMiBY_zmN"
      }
    },
    {
      "cell_type": "markdown",
      "source": [
        "## Step 2a: Columns which have data that have no relevance to price prediction e.g. Serial # (Unnamed: 0), id, time"
      ],
      "metadata": {
        "id": "cCG3dKoKYpuL"
      }
    },
    {
      "cell_type": "code",
      "source": [
        "# Initialize an empty list to store column names to drop\n",
        "columns_to_drop = []\n",
        "\n",
        "# Dropping irrelevant columns\n",
        "columns_to_drop.extend(['Unnamed: 0', 'id'])\n",
        "\n",
        "# Dropping 'time' column since time of posting should not have any bearing on housing price\n",
        "columns_to_drop.append('time')\n",
        "\n",
        "print(\"\\nRunnnig List of columns to drop:\")\n",
        "print(columns_to_drop)\n",
        "print(\"\\n\")"
      ],
      "metadata": {
        "colab": {
          "base_uri": "https://localhost:8080/"
        },
        "id": "jV9-STmw761M",
        "outputId": "5c6790c1-ff80-4cfc-b6ea-cc5809bb873f"
      },
      "execution_count": 6,
      "outputs": [
        {
          "output_type": "stream",
          "name": "stdout",
          "text": [
            "\n",
            "Runnnig List of columns to drop:\n",
            "['Unnamed: 0', 'id', 'time']\n",
            "\n",
            "\n"
          ]
        }
      ]
    },
    {
      "cell_type": "markdown",
      "source": [
        "## Step2b: Identify columns with only one unique value"
      ],
      "metadata": {
        "id": "-eJMPQKOZDw8"
      }
    },
    {
      "cell_type": "code",
      "source": [
        "# Identify columns with only one unique value\n",
        "one_unique_col = []\n",
        "\n",
        "for column in data.columns:\n",
        "    if data[column].nunique() == 1:\n",
        "        one_unique_col.append((column, data[column].nunique()))\n",
        "        columns_to_drop.append(column)\n",
        "\n",
        "# Print columns with only one unique value and the count of unique values\n",
        "print(\"Columns to drop (having only one unique value):\")\n",
        "for column, unique_count in one_unique_col:\n",
        "    print(f\"Column: {column}, Unique Values: {unique_count}\")\n",
        "print(\"\\n\")\n",
        "\n",
        "print(\"\\nRunnnig List of columns to drop:\")\n",
        "print(columns_to_drop)\n",
        "print(\"\\n\")"
      ],
      "metadata": {
        "id": "ycB4q5BtZEVT",
        "outputId": "3fdff2b3-4754-48bd-ce78-db74dc506f33",
        "colab": {
          "base_uri": "https://localhost:8080/"
        }
      },
      "execution_count": 7,
      "outputs": [
        {
          "output_type": "stream",
          "name": "stdout",
          "text": [
            "Columns to drop (having only one unique value):\n",
            "Column: stateId, Unique Values: 1\n",
            "Column: country, Unique Values: 1\n",
            "Column: state, Unique Values: 1\n",
            "Column: currency, Unique Values: 1\n",
            "\n",
            "\n",
            "\n",
            "Runnnig List of columns to drop:\n",
            "['Unnamed: 0', 'id', 'time', 'stateId', 'country', 'state', 'currency']\n",
            "\n",
            "\n"
          ]
        }
      ]
    },
    {
      "cell_type": "markdown",
      "source": [
        "## Step 2c. Columns which only have limited value instances e.g. is_bankOwned"
      ],
      "metadata": {
        "id": "niprIouCZ_mR"
      }
    },
    {
      "cell_type": "code",
      "source": [
        "# Identify columns with limited unique values and their counts\n",
        "LIMITED_UNIQUE = 50             # constant to define how many unique values we may want to consider\n",
        "limited_unique_col = []\n",
        "limited_unique_col_counts = {} #dictionary to store column names and their unique values\n",
        "\n",
        "for column in data.columns:\n",
        "    if data[column].nunique() > 1 and data[column].nunique() < LIMITED_UNIQUE:\n",
        "        limited_unique_col.append((column, data[column].nunique()))\n",
        "        unique_values_counts = data[column].value_counts()\n",
        "        limited_unique_col_counts[column] = unique_values_counts\n",
        "\n",
        "\n",
        "\n",
        "print(\"=\"*50)\n",
        "\n",
        "# Print columns with fewer than LIMITED_UNIQUE values and the count of unique values\n",
        "print(f\"\\nColumns with fewer than {LIMITED_UNIQUE} unique values:\")\n",
        "for column, unique_count in limited_unique_col:\n",
        "  print(f\"Column: {column}, Unique Values: {unique_count}\")\n",
        "\n",
        "print(\"\\n\" + \"=\"*50 + \"\\n\\n\")\n",
        "# Print the unique values and their counts for columns with fewer than COUNT_INSTANCES values\n",
        "COUNT_INSTANCES = 100\n",
        "print(f\"Unique values and their counts for columns with fewer than {COUNT_INSTANCES} unique values:\\n\")\n",
        "for column, unique_values_counts in limited_unique_col_counts.items():\n",
        "  if (unique_values_counts < COUNT_INSTANCES).any():\n",
        "    print(f\"Column: {column}\")\n",
        "    print(unique_values_counts)\n",
        "    # print only unique values and not the counts\n",
        "    print(unique_values_counts.index)\n",
        "    #print(unique_values_counts.sum())\n",
        "    print(\"=\"*50)\n"
      ],
      "metadata": {
        "colab": {
          "base_uri": "https://localhost:8080/"
        },
        "id": "IyUbTFdaNuId",
        "outputId": "5d6f8df1-6fc9-48e3-ce0a-73ed2676b94e"
      },
      "execution_count": 9,
      "outputs": [
        {
          "output_type": "stream",
          "name": "stdout",
          "text": [
            "==================================================\n",
            "\n",
            "Columns with fewer than 50 unique values:\n",
            "Column: is_bankOwned, Unique Values: 2\n",
            "Column: is_forAuction, Unique Values: 2\n",
            "Column: event, Unique Values: 6\n",
            "Column: hasBadGeocode, Unique Values: 2\n",
            "Column: lotAreaUnits, Unique Values: 2\n",
            "Column: bathrooms, Unique Values: 26\n",
            "Column: bedrooms, Unique Values: 30\n",
            "Column: parking, Unique Values: 2\n",
            "Column: garageSpaces, Unique Values: 29\n",
            "Column: hasGarage, Unique Values: 2\n",
            "Column: levels, Unique Values: 48\n",
            "Column: pool, Unique Values: 2\n",
            "Column: spa, Unique Values: 2\n",
            "Column: isNewConstruction, Unique Values: 2\n",
            "Column: hasPetsAllowed, Unique Values: 2\n",
            "Column: homeType, Unique Values: 6\n",
            "\n",
            "==================================================\n",
            "\n",
            "\n",
            "Unique values and their counts for columns with fewer than 100 unique values:\n",
            "\n",
            "Column: is_bankOwned\n",
            "is_bankOwned\n",
            "0    35386\n",
            "1        3\n",
            "Name: count, dtype: int64\n",
            "Index([0, 1], dtype='int64', name='is_bankOwned')\n",
            "==================================================\n",
            "Column: is_forAuction\n",
            "is_forAuction\n",
            "0    35363\n",
            "1       26\n",
            "Name: count, dtype: int64\n",
            "Index([0, 1], dtype='int64', name='is_forAuction')\n",
            "==================================================\n",
            "Column: event\n",
            "event\n",
            "Listed for sale    24622\n",
            "Price change        4893\n",
            "Listing removed     4311\n",
            "Sold                1268\n",
            "Listed for rent        5\n",
            "Pending sale           1\n",
            "Name: count, dtype: int64\n",
            "Index(['Listed for sale', 'Price change', 'Listing removed', 'Sold', 'Listed for rent', 'Pending sale'], dtype='object', name='event')\n",
            "==================================================\n",
            "Column: hasBadGeocode\n",
            "hasBadGeocode\n",
            "0    35386\n",
            "1        3\n",
            "Name: count, dtype: int64\n",
            "Index([0, 1], dtype='int64', name='hasBadGeocode')\n",
            "==================================================\n",
            "Column: bathrooms\n",
            "bathrooms\n",
            "2.0     10939\n",
            "3.0      8369\n",
            "0.0      8079\n",
            "1.0      3737\n",
            "4.0      2303\n",
            "5.0       987\n",
            "6.0       455\n",
            "7.0       215\n",
            "8.0       139\n",
            "9.0        61\n",
            "10.0       31\n",
            "11.0       26\n",
            "12.0       20\n",
            "14.0        7\n",
            "13.0        6\n",
            "15.0        3\n",
            "24.0        2\n",
            "16.0        2\n",
            "20.0        1\n",
            "23.0        1\n",
            "21.0        1\n",
            "28.0        1\n",
            "25.0        1\n",
            "22.0        1\n",
            "48.0        1\n",
            "58.0        1\n",
            "Name: count, dtype: int64\n",
            "Index([2.0, 3.0, 0.0, 1.0, 4.0, 5.0, 6.0, 7.0, 8.0, 9.0, 10.0, 11.0, 12.0, 14.0, 13.0, 15.0, 24.0, 16.0, 20.0, 23.0, 21.0, 28.0, 25.0, 22.0, 48.0, 58.0], dtype='float64', name='bathrooms')\n",
            "==================================================\n",
            "Column: bedrooms\n",
            "bedrooms\n",
            "3.0     10911\n",
            "0.0      7546\n",
            "4.0      7228\n",
            "2.0      5229\n",
            "5.0      2432\n",
            "1.0       907\n",
            "6.0       628\n",
            "7.0       225\n",
            "8.0       142\n",
            "9.0        50\n",
            "12.0       22\n",
            "10.0       20\n",
            "11.0       18\n",
            "13.0        5\n",
            "21.0        3\n",
            "15.0        3\n",
            "17.0        2\n",
            "32.0        2\n",
            "29.0        2\n",
            "16.0        2\n",
            "14.0        2\n",
            "18.0        2\n",
            "82.0        1\n",
            "50.0        1\n",
            "99.0        1\n",
            "24.0        1\n",
            "30.0        1\n",
            "80.0        1\n",
            "56.0        1\n",
            "52.0        1\n",
            "Name: count, dtype: int64\n",
            "Index([3.0, 0.0, 4.0, 2.0, 5.0, 1.0, 6.0, 7.0, 8.0, 9.0, 12.0, 10.0, 11.0, 13.0, 21.0, 15.0, 17.0, 32.0, 29.0, 16.0, 14.0, 18.0, 82.0, 50.0, 99.0, 24.0, 30.0, 80.0, 56.0, 52.0], dtype='float64', name='bedrooms')\n",
            "==================================================\n",
            "Column: garageSpaces\n",
            "garageSpaces\n",
            "0.0     18908\n",
            "2.0     11020\n",
            "1.0      2293\n",
            "3.0      2257\n",
            "4.0       554\n",
            "5.0       127\n",
            "6.0       106\n",
            "8.0        38\n",
            "7.0        22\n",
            "10.0       18\n",
            "12.0       14\n",
            "9.0         7\n",
            "31.0        2\n",
            "15.0        2\n",
            "18.0        2\n",
            "27.0        2\n",
            "28.0        2\n",
            "32.0        2\n",
            "16.0        2\n",
            "13.0        2\n",
            "22.0        1\n",
            "88.0        1\n",
            "14.0        1\n",
            "24.0        1\n",
            "11.0        1\n",
            "54.0        1\n",
            "20.0        1\n",
            "26.0        1\n",
            "30.0        1\n",
            "Name: count, dtype: int64\n",
            "Index([0.0, 2.0, 1.0, 3.0, 4.0, 5.0, 6.0, 8.0, 7.0, 10.0, 12.0, 9.0, 31.0, 15.0, 18.0, 27.0, 28.0, 32.0, 16.0, 13.0, 22.0, 88.0, 14.0, 24.0, 11.0, 54.0, 20.0, 26.0, 30.0], dtype='float64', name='garageSpaces')\n",
            "==================================================\n",
            "Column: levels\n",
            "levels\n",
            "0                                      16855\n",
            "One                                     8999\n",
            "Two                                     6112\n",
            "Three Or More                            895\n",
            "One Story                                699\n",
            "Two Story                                592\n",
            "Multi/Split                              457\n",
            "One Story-One                            111\n",
            "Three or More Stories                    101\n",
            "One-Two                                   90\n",
            "Two Story-Two                             72\n",
            "Tri-Level                                 51\n",
            "2                                         48\n",
            "1                                         43\n",
            "Two-Multi/Split                           38\n",
            "Three or More Stories-Three Or More       29\n",
            "Three Or More-Multi/Split                 18\n",
            "Three                                     16\n",
            "3                                         15\n",
            "Two-Three Or More                         15\n",
            "Other                                     15\n",
            "Multi/Split-Two                           13\n",
            "One-Multi/Split                           13\n",
            "Four                                      13\n",
            "Two Story-One                             11\n",
            "Three or More Stories-One                  7\n",
            "Other-One                                  6\n",
            "Three or More Stories-Two                  6\n",
            "One-Three Or More                          6\n",
            "Two Story-Three Or More                    5\n",
            "Tri-Level-Three Or More                    4\n",
            "One Story-Two                              4\n",
            "Multi/Split-Three Or More                  4\n",
            "Five or More                               3\n",
            "Multi/Split-Tri-Level                      3\n",
            "One Story-Three Or More                    3\n",
            "Multi/Split-One                            2\n",
            "Split Level                                2\n",
            "One-Two-Multi/Split                        2\n",
            "Three Or More-Split Level                  2\n",
            "4+                                         2\n",
            "One-Two-Three Or More                      1\n",
            "Tri-Level-Two                              1\n",
            "Multi-Level                                1\n",
            "Three Or More-Two                          1\n",
            "Three or More Stories-One-Two              1\n",
            "Two-Three Or More-Multi/Split              1\n",
            "Two-One                                    1\n",
            "Name: count, dtype: int64\n",
            "Index(['0', 'One', 'Two', 'Three Or More', 'One Story', 'Two Story', 'Multi/Split', 'One Story-One', 'Three or More Stories', 'One-Two', 'Two Story-Two', 'Tri-Level', '2', '1', 'Two-Multi/Split', 'Three or More Stories-Three Or More', 'Three Or More-Multi/Split', 'Three', '3', 'Two-Three Or More', 'Other', 'Multi/Split-Two', 'One-Multi/Split', 'Four', 'Two Story-One', 'Three or More Stories-One', 'Other-One', 'Three or More Stories-Two', 'One-Three Or More', 'Two Story-Three Or More', 'Tri-Level-Three Or More', 'One Story-Two', 'Multi/Split-Three Or More', 'Five or More', 'Multi/Split-Tri-Level', 'One Story-Three Or More', 'Multi/Split-One', 'Split Level', 'One-Two-Multi/Split', 'Three Or More-Split Level', '4+', 'One-Two-Three Or More', 'Tri-Level-Two', 'Multi-Level', 'Three Or More-Two', 'Three or More Stories-One-Two', 'Two-Three Or More-Multi/Split', 'Two-One'], dtype='object', name='levels')\n",
            "==================================================\n",
            "Column: homeType\n",
            "homeType\n",
            "SINGLE_FAMILY    22409\n",
            "LOT               5850\n",
            "CONDO             3495\n",
            "MULTI_FAMILY      2446\n",
            "TOWNHOUSE         1188\n",
            "APARTMENT            1\n",
            "Name: count, dtype: int64\n",
            "Index(['SINGLE_FAMILY', 'LOT', 'CONDO', 'MULTI_FAMILY', 'TOWNHOUSE', 'APARTMENT'], dtype='object', name='homeType')\n",
            "==================================================\n"
          ]
        }
      ]
    },
    {
      "cell_type": "code",
      "source": [
        "# Group by 'homeType' and get the unique 'levels' for each 'homeType'\n",
        "unique_levels_by_homeType = data.groupby('homeType')['levels'].unique()\n",
        "\n",
        "# Print the unique 'levels' for each 'homeType'\n",
        "for home_type, levels in unique_levels_by_homeType.items():\n",
        "    print(f\"\\nHome Type: {home_type}\")\n",
        "    print(f\"Unique Levels: {list(levels)}\")"
      ],
      "metadata": {
        "id": "jCW-g5xSFU1v",
        "outputId": "4b7d5678-5ca5-4a13-a3b2-16a7302e736f",
        "colab": {
          "base_uri": "https://localhost:8080/"
        }
      },
      "execution_count": 13,
      "outputs": [
        {
          "output_type": "stream",
          "name": "stdout",
          "text": [
            "\n",
            "Home Type: APARTMENT\n",
            "Unique Levels: ['0']\n",
            "\n",
            "Home Type: CONDO\n",
            "Unique Levels: ['One Story', 'One', 'Two', '0', 'Three Or More', 'Tri-Level', 'Multi/Split', 'One Story-Three Or More', 'One Story-One', 'Two Story-Two', 'Two Story', 'Two Story-One', 'Three or More Stories-One', 'Three or More Stories-Three Or More', 'Three or More Stories', 'Two Story-Three Or More', 'Three or More Stories-Two', 'One-Three Or More', 'Other', 'Other-One', 'Multi/Split-Two', 'Two-Multi/Split', 'One Story-Two', 'Two-Three Or More', 'One-Two', 'Tri-Level-Three Or More', 'Three Or More-Multi/Split', 'Two-Three Or More-Multi/Split']\n",
            "\n",
            "Home Type: LOT\n",
            "Unique Levels: ['0', '2', '1']\n",
            "\n",
            "Home Type: MULTI_FAMILY\n",
            "Unique Levels: ['Three Or More', 'Two', '0', 'One', 'Multi/Split', 'Four', 'One-Two', 'Five or More', 'One Story', '2', '1', 'Two-Three Or More', 'Two-Multi/Split', 'One-Multi/Split']\n",
            "\n",
            "Home Type: SINGLE_FAMILY\n",
            "Unique Levels: ['One Story', 'Two Story', 'One', '0', 'Two', 'Three Or More', 'Multi/Split', 'One-Two', 'Three', 'Tri-Level', 'Three Or More-Multi/Split', 'Three or More Stories', 'One Story-One', 'Two-Multi/Split', 'Two Story-Two', 'Multi/Split-Tri-Level', 'Other', '2', 'Tri-Level-Two', 'One-Multi/Split', 'One-Two-Three Or More', 'Two-Three Or More', 'Two Story-One', 'Three or More Stories-Three Or More', '1', '3', 'Multi/Split-One', 'Multi/Split-Two', 'Split Level', 'One-Two-Multi/Split', 'One-Three Or More', '4+', 'Multi/Split-Three Or More', 'Multi-Level', 'Three Or More-Two', 'Three or More Stories-One-Two', 'Two-One']\n",
            "\n",
            "Home Type: TOWNHOUSE\n",
            "Unique Levels: ['Two', 'Three Or More', '0', 'Multi/Split', 'One', 'Three', 'Two Story-Two', 'One Story', 'Two Story', 'Three or More Stories', 'Three or More Stories-Three Or More', 'Multi/Split-Three Or More', '2', 'Three Or More-Multi/Split', 'Tri-Level', 'Two-Multi/Split', 'Three Or More-Split Level', 'One Story-One', 'Two-Three Or More', 'Tri-Level-Three Or More', 'Other', 'Three or More Stories-Two', 'One-Two', 'Two Story-Three Or More']\n"
          ]
        }
      ]
    },
    {
      "cell_type": "code",
      "source": [
        "def categorize_levels(level, home_type):\n",
        "    # Normalize the strings by converting to lowercase\n",
        "    level = str(level).lower().strip()\n",
        "    home_type = home_type.lower().strip()\n",
        "\n",
        "    # Categorization based on the mapping provided\n",
        "    if home_type == 'apartment':\n",
        "        if level == '0':\n",
        "            return '0 Levels'\n",
        "\n",
        "    elif home_type == 'condo':\n",
        "        if 'one' in level or level == '1':\n",
        "            return '1 Level'\n",
        "        elif 'two' in level or level == '2':\n",
        "            return '2 Levels'\n",
        "        elif 'three' in level or 'three or more' in level or level == '3':\n",
        "            return '3+ Levels'\n",
        "        elif 'multi/split' in level or 'tri-level' in level:\n",
        "            return 'Multi/Split Level'\n",
        "        else:\n",
        "            return 'Other'\n",
        "\n",
        "    elif home_type == 'lot':\n",
        "        if level == '0':\n",
        "            return '0 Levels'\n",
        "        elif level == '1':\n",
        "            return '1 Level'\n",
        "        elif level == '2':\n",
        "            return '2 Levels'\n",
        "        else:\n",
        "            return 'Other'\n",
        "\n",
        "    elif home_type == 'multi_family':\n",
        "        if 'one' in level or level == '1':\n",
        "            return '1 Level'\n",
        "        elif 'two' in level or level == '2':\n",
        "            return '2 Levels'\n",
        "        elif 'three' in level or 'three or more' in level or level == '3' or 'four' in level or 'five' in level:\n",
        "            return '3+ Levels'\n",
        "        elif 'multi/split' in level:\n",
        "            return 'Multi/Split Level'\n",
        "        else:\n",
        "            return 'Other'\n",
        "\n",
        "    elif home_type == 'single_family':\n",
        "        if 'one' in level or level == '1':\n",
        "            return '1 Level'\n",
        "        elif 'two' in level or level == '2':\n",
        "            return '2 Levels'\n",
        "        elif 'three' in level or 'three or more' in level or level == '3' or 'four' in level or 'five' in level:\n",
        "            return '3+ Levels'\n",
        "        elif 'multi/split' in level or 'tri-level' in level or 'split level' in level or 'multi-level' in level:\n",
        "            return 'Multi/Split Level'\n",
        "        else:\n",
        "            return 'Other'\n",
        "\n",
        "    elif home_type == 'townhouse':\n",
        "        if 'one' in level or level == '1':\n",
        "            return '1 Level'\n",
        "        elif 'two' in level or level == '2':\n",
        "            return '2 Levels'\n",
        "        elif 'three' in level or 'three or more' in level or level == '3':\n",
        "            return '3+ Levels'\n",
        "        elif 'multi/split' in level or 'tri-level' in level:\n",
        "            return 'Multi/Split Level'\n",
        "        else:\n",
        "            return 'Other'\n",
        "\n",
        "    return 'Other'\n",
        "\n",
        "# Apply the categorization function to both 'levels' and 'homeType' columns\n",
        "data['categorized_levels'] = data.apply(lambda row: categorize_levels(row['levels'], row['homeType']), axis=1)\n",
        "\n",
        "# Verify the categorization by checking unique categories\n",
        "print(data['categorized_levels'].value_counts())\n"
      ],
      "metadata": {
        "id": "lSYcKLtNHOFg",
        "outputId": "e1d16606-9b09-40ea-ded7-bff1ceba968f",
        "colab": {
          "base_uri": "https://localhost:8080/"
        }
      },
      "execution_count": 14,
      "outputs": [
        {
          "output_type": "stream",
          "name": "stdout",
          "text": [
            "categorized_levels\n",
            "Other                11023\n",
            "1 Level               9999\n",
            "2 Levels              6904\n",
            "0 Levels              5849\n",
            "3+ Levels             1100\n",
            "Multi/Split Level      514\n",
            "Name: count, dtype: int64\n"
          ]
        }
      ]
    },
    {
      "cell_type": "code",
      "source": [
        "# Group by 'homeType' and get the unique 'levels' for each 'homeType'\n",
        "unique_levels_by_homeType = data.groupby('homeType')['categorized_levels'].unique()\n",
        "\n",
        "# Print the unique 'levels' for each 'homeType'\n",
        "for home_type, levels in unique_levels_by_homeType.items():\n",
        "    print(f\"\\nHome Type: {home_type}\")\n",
        "    print(f\"Unique Levels: {list(levels)}\")"
      ],
      "metadata": {
        "id": "i8NsdzY9HV0_",
        "outputId": "e639dc57-29a5-4fb2-c12c-31feabd96b1f",
        "colab": {
          "base_uri": "https://localhost:8080/"
        }
      },
      "execution_count": 15,
      "outputs": [
        {
          "output_type": "stream",
          "name": "stdout",
          "text": [
            "\n",
            "Home Type: APARTMENT\n",
            "Unique Levels: ['0 Levels']\n",
            "\n",
            "Home Type: CONDO\n",
            "Unique Levels: ['1 Level', '2 Levels', 'Other', '3+ Levels', 'Multi/Split Level']\n",
            "\n",
            "Home Type: LOT\n",
            "Unique Levels: ['0 Levels', '2 Levels', '1 Level']\n",
            "\n",
            "Home Type: MULTI_FAMILY\n",
            "Unique Levels: ['3+ Levels', '2 Levels', 'Other', '1 Level', 'Multi/Split Level']\n",
            "\n",
            "Home Type: SINGLE_FAMILY\n",
            "Unique Levels: ['1 Level', '2 Levels', 'Other', '3+ Levels', 'Multi/Split Level']\n",
            "\n",
            "Home Type: TOWNHOUSE\n",
            "Unique Levels: ['2 Levels', '3+ Levels', 'Other', 'Multi/Split Level', '1 Level']\n"
          ]
        }
      ]
    },
    {
      "cell_type": "code",
      "source": [
        "def categorize_levels(level):\n",
        "    # Standardize lower case for matching\n",
        "    level = str(level).lower()\n",
        "\n",
        "    # Define categories\n",
        "    if level in ['0', 'other', 'other-one']:\n",
        "        return '0 Levels'\n",
        "    elif level in ['one', 'one story', 'one story-one', '1', 'one-multi/split']:\n",
        "        return '1 Level'\n",
        "    elif level in ['two', 'two story', 'two story-two', '2', 'two-one', 'two-multi/split', 'one-two', 'two story-one']:\n",
        "        return '2 Levels'\n",
        "    elif level in ['three', 'three or more', 'three or more stories', '3', 'three or more stories-three or more', 'two-three or more', 'tri-level']:\n",
        "        return '3 Levels'\n",
        "    elif level in ['four', '4+', 'five or more', 'three or more-tw', 'multi/split-three or more', 'three or more stories-one-two']:\n",
        "        return '4+ Levels'\n",
        "    elif 'multi/split' in level or 'split level' in level or 'multi-level' in level:\n",
        "        return 'Multi/Split Level'\n",
        "    else:\n",
        "        return 'Other'\n",
        "\n",
        "# Apply the categorization to the 'levels' column\n",
        "data['categorized_levels'] = data['levels'].apply(categorize_levels)\n",
        "\n",
        "# Verify the categorization by checking the unique values\n",
        "print(data['categorized_levels'].value_counts())\n"
      ],
      "metadata": {
        "id": "CZGdHCjR-N9n",
        "outputId": "09db7c2a-aafc-43c3-b0cf-334c77771da3",
        "colab": {
          "base_uri": "https://localhost:8080/"
        }
      },
      "execution_count": 11,
      "outputs": [
        {
          "output_type": "stream",
          "name": "stdout",
          "text": [
            "categorized_levels\n",
            "0 Levels             16876\n",
            "1 Level               9865\n",
            "2 Levels              6964\n",
            "3 Levels              1122\n",
            "Multi/Split Level      501\n",
            "Other                   38\n",
            "4+ Levels               23\n",
            "Name: count, dtype: int64\n"
          ]
        }
      ]
    },
    {
      "cell_type": "code",
      "source": [
        "def categorize_levels(level, home_type):\n",
        "    # Standardize lower case for matching\n",
        "    level = str(level).lower()\n",
        "    home_type = home_type.lower()\n",
        "\n",
        "    # Single-family homes tend to have more varied levels\n",
        "    if home_type == 'single_family':\n",
        "        if level in ['0', 'other', 'other-one']:\n",
        "            return '0 Levels'\n",
        "        elif level in ['one', 'one story', 'one story-one', '1', 'one-multi/split']:\n",
        "            return '1 Level'\n",
        "        elif level in ['two', 'two story', 'two story-two', '2', 'two-one', 'two-multi/split', 'one-two', 'two story-one']:\n",
        "            return '2 Levels'\n",
        "        elif level in ['three', 'three or more', 'three or more stories', '3', 'three or more stories-three or more', 'two-three or more']:\n",
        "            return '3 Levels'\n",
        "        elif level in ['four', '4+', 'five or more', 'three or more-tw', 'multi/split-three or more', 'three or more stories-one-two']:\n",
        "            return '4+ Levels'\n",
        "        elif 'multi/split' in level or 'tri-level' in level or 'split level' in level or 'multi-level' in level:\n",
        "            return 'Multi/Split Level'\n",
        "        else:\n",
        "            return 'Other'\n",
        "\n",
        "    # Condos are usually 1 or 2 levels, with some exceptions\n",
        "    elif home_type == 'condo':\n",
        "        if level in ['one', 'one story', '1']:\n",
        "            return '1 Level'\n",
        "        elif level in ['two', 'two story', '2', 'one-two']:\n",
        "            return '2 Levels'\n",
        "        elif level in ['three', 'three or more', '3']:\n",
        "            return '3 Levels'\n",
        "        else:\n",
        "            return 'Other'\n",
        "\n",
        "    # Townhouses usually have between 1-3 levels\n",
        "    elif home_type == 'townhouse':\n",
        "        if level in ['one', 'one story', '1']:\n",
        "            return '1 Level'\n",
        "        elif level in ['two', 'two story', '2']:\n",
        "            return '2 Levels'\n",
        "        elif level in ['three', 'three or more', '3']:\n",
        "            return '3 Levels'\n",
        "        else:\n",
        "            return 'Other'\n",
        "\n",
        "    # Multi-family units can have more levels and mixed configurations\n",
        "    elif home_type == 'multi_family':\n",
        "        if level in ['one', 'one story', '1', 'multi/split-one']:\n",
        "            return '1 Level'\n",
        "        elif level in ['two', 'two story', '2', 'two-multi/split']:\n",
        "            return '2 Levels'\n",
        "        elif level in ['three', 'three or more', '3', 'multi/split-three or more']:\n",
        "            return '3+ Levels'\n",
        "        else:\n",
        "            return 'Other'\n",
        "\n",
        "    # Lots usually don't have levels, but if they do, it's rare\n",
        "    elif home_type == 'lot':\n",
        "        return '0 Levels'\n",
        "\n",
        "    else:\n",
        "        return 'Other'\n",
        "\n",
        "# Apply the categorization function to both 'homeType' and 'levels' columns\n",
        "data['categorized_levels'] = data.apply(lambda row: categorize_levels(row['levels'], row['homeType']), axis=1)\n",
        "\n",
        "# Verify the categorization by checking unique values\n",
        "print(data['categorized_levels'].value_counts())\n"
      ],
      "metadata": {
        "id": "SjKfebrDENk7",
        "outputId": "83d6acf5-76ac-4411-9850-e90ae399d4ad",
        "colab": {
          "base_uri": "https://localhost:8080/"
        }
      },
      "execution_count": 12,
      "outputs": [
        {
          "output_type": "stream",
          "name": "stdout",
          "text": [
            "categorized_levels\n",
            "0 Levels             14005\n",
            "1 Level               9759\n",
            "2 Levels              6861\n",
            "Other                 3362\n",
            "3 Levels               929\n",
            "Multi/Split Level      400\n",
            "3+ Levels               67\n",
            "4+ Levels                6\n",
            "Name: count, dtype: int64\n"
          ]
        }
      ]
    },
    {
      "cell_type": "code",
      "source": [
        "# Using output from above eliminating columns that have limited number of unique instances and will not help in building a predictive model\n",
        "# these include is_bankOwned, is_forAuction, hasBadGeocode\n",
        "\n",
        "columns_to_drop.extend(['is_bankOwned', 'is_forAuction', 'hasBadGeocode'])\n",
        "\n",
        "\n",
        "# Visual assessment of 'lotAreaUnits' column indicates that use of Acres as unit is incorrect and sqft should be used\n",
        "# With this assumption the 'lotAreaUnits' column can be added to the list of columns to be dropped since we will be considering area in sqft only\n",
        "columns_to_drop.append('lotAreaUnits')\n",
        "\n",
        "# since there is only one entry with homeType = APARTMENT, it should be replaced as CONDO\n",
        "data.loc[data['homeType'] == 'APARTMENT', 'homeType'] = 'CONDO'\n",
        "\n",
        "# confirm that there is no more entry with homeType as APARTMENT\n",
        "print(\"Any entries with homeType as APARTMENT \", data[data['homeType'] == 'APARTMENT'].shape[0])\n",
        "\n",
        "print(\"\\nRunnnig List of columns to drop:\")\n",
        "print(columns_to_drop)\n",
        "print(\"\\n\")\n"
      ],
      "metadata": {
        "id": "LuE-3nVGaYl7"
      },
      "execution_count": null,
      "outputs": []
    },
    {
      "cell_type": "markdown",
      "source": [
        "# Step 2c: Identify duplicate columns"
      ],
      "metadata": {
        "id": "6duwEHI6YL7W"
      }
    },
    {
      "cell_type": "code",
      "source": [
        "# Dropping duplicate columns since we have columns for 'county' and 'city'\n",
        "columns_to_drop.extend(['countyId', 'cityId'])\n",
        "\n",
        "# Dropping column 'zipcode' since relevant info is covered with 'city' albeit there might be multiple zipcodes within a 'city'\n",
        "columns_to_drop.append('zipcode')\n",
        "\n",
        "print(\"\\nRunnnig List of columns to drop:\")\n",
        "print(columns_to_drop)\n",
        "print(\"\\n\")"
      ],
      "metadata": {
        "id": "5kaBhmDLY6vK"
      },
      "execution_count": null,
      "outputs": []
    },
    {
      "cell_type": "markdown",
      "source": [
        "### Analyze livingArea and livingAreaValue columns for duplication"
      ],
      "metadata": {
        "id": "ZE0J174Bn1eI"
      }
    },
    {
      "cell_type": "code",
      "source": [
        "# Check for differences between 'livingArea' and 'livingAreaValue'\n",
        "difference = data['livingArea'] != data['livingAreaValue']\n",
        "\n",
        "# Count the number of rows where the values are different\n",
        "num_differences = difference.sum()\n",
        "print(f\"Number of rows with differences b/w livingArea and livingAreaValue columns: {num_differences}\")\n",
        "\n",
        "# Display the rows where the values are different\n",
        "rows_with_differences = data[difference]\n",
        "print(rows_with_differences[['livingArea', 'livingAreaValue']])\n",
        "print(\"\\n\")\n",
        "# Drop the 'livingArea' column\n",
        "columns_to_drop.append('livingArea')  # since livingArea is missing an entry compared to livingAreaValue\n",
        "\n",
        "print(\"\\nRunnnig List of columns to drop:\")\n",
        "print(columns_to_drop)\n",
        "print(\"\\n\")"
      ],
      "metadata": {
        "id": "fikg45d9QsF0"
      },
      "execution_count": null,
      "outputs": []
    },
    {
      "cell_type": "markdown",
      "source": [
        "### Analyze livingAreaValue and buildingArea columns for duplication"
      ],
      "metadata": {
        "id": "IPaTeApjoAaL"
      }
    },
    {
      "cell_type": "code",
      "source": [
        "# Check for overlapping values between livingAreaValue and buildingArea\n",
        "# 1a. How many null values do we have in livingAreaValue and buildingArea?\n",
        "null_living_area_value = data['livingAreaValue'].isnull().sum()\n",
        "null_building_area = data['buildingArea'].isnull().sum()\n",
        "\n",
        "print(f\"Number of null values in 'livingAreaValue': {null_living_area_value}\")\n",
        "print(f\"Number of null values in 'buildingArea': {null_building_area}\")\n",
        "\n",
        "# 1b. How many zero values do we have in livingAreaValue and buildingArea?\n",
        "zero_living_area_value = (data['livingAreaValue'] == 0).sum()\n",
        "zero_building_area = (data['buildingArea'] == 0).sum()\n",
        "\n",
        "print(f\"Number of zero values in 'livingAreaValue': {zero_living_area_value}\")\n",
        "print(f\"Number of zero values in 'buildingArea': {zero_building_area}\")\n",
        "\n",
        "\n",
        "# 2. When livingAreaValue is zero, do we have a value in buildingArea (non-zero)?\n",
        "living_area_zero_building_area_value = data[(data['livingAreaValue'] == 0) & (data['buildingArea'] != 0)].shape[0]\n",
        "\n",
        "print(f\"Number of instances where 'livingAreaValue' is zero but 'buildingArea' has a non-zero value: {living_area_zero_building_area_value}\")\n",
        "\n",
        "# 3. When buildingArea is zero, do we have a value in livingAreaValue (non-zero)?\n",
        "building_area_zero_living_area_value = data[(data['buildingArea'] == 0) & (data['livingAreaValue'] != 0)].shape[0]\n",
        "\n",
        "print(f\"Number of instances where 'buildingArea' is zero but 'livingAreaValue' has a non-zero value: {building_area_zero_living_area_value}\")\n",
        "\n",
        "# 4. When both livingAreaValue and buildingArea have non-zero values, are those values different?\n",
        "# Check where both columns are non-zero, then check for value differences\n",
        "both_values_present = data[(data['livingAreaValue'] != 0) & (data['buildingArea'] != 0)]\n",
        "different_values = both_values_present[both_values_present['livingAreaValue'] != both_values_present['buildingArea']].shape[0]\n",
        "\n",
        "print(f\"Number of instances where both 'livingAreaValue' and 'buildingArea' have non-zero values but are different: {different_values}\")\n"
      ],
      "metadata": {
        "id": "4DbIVCaIQ0oa"
      },
      "execution_count": null,
      "outputs": []
    },
    {
      "cell_type": "code",
      "source": [
        "# Based on the above copy values from 'buildingArea' to 'livingAreaValue' only where 'livingAreaValue' is zero\n",
        "data.loc[data['livingAreaValue'] == 0, 'livingAreaValue'] = data['buildingArea']\n",
        "\n",
        "# there should be no instances now where 'livingAreaValue' is zero but 'buildingArea' has a non-zero value\n",
        "living_area_zero_building_area_value = data[(data['livingAreaValue'] == 0) & (data['buildingArea'] != 0)].shape[0]\n",
        "\n",
        "print(f\"Number of instances where 'livingAreaValue' is zero but 'buildingArea' has a non-zero value: {living_area_zero_building_area_value}\")\n",
        "\n",
        "# Drop the 'buildingArea' column since it no longer provides any value\n",
        "columns_to_drop.append('buildingArea')\n",
        "\n",
        "print(\"\\nRunnnig List of columns to drop:\")\n",
        "print(columns_to_drop)\n",
        "print(\"\\n\")\n"
      ],
      "metadata": {
        "id": "PvVMuRusT5rz"
      },
      "execution_count": null,
      "outputs": []
    },
    {
      "cell_type": "code",
      "source": [
        "# find instances where livingAreaValue is zero categorized by homeType\n",
        "# Step 1: Filter rows where 'livingAreaValue' is zero\n",
        "zero_living_area = data[data['livingAreaValue'] == 0]\n",
        "\n",
        "# Step 2: Group by 'homeType' and count the occurrences\n",
        "zero_living_area_by_homeType = zero_living_area.groupby('homeType').size()\n",
        "\n",
        "# Print the result\n",
        "print(zero_living_area_by_homeType)\n",
        "\n",
        "\n",
        "# Create a box plot to visually inspect outliers in 'livingAreaValue'\n",
        "\n",
        "# Step 1: Set up the figure and axes for the plot\n",
        "plt.figure(figsize=(10, 6))\n",
        "\n",
        "# Step 2: Create the box plot using seaborn\n",
        "sns.boxplot(x='homeType', y='livingAreaValue', data=data)\n",
        "\n",
        "# Step 3: Add labels and title\n",
        "plt.title('Box Plot of Living Area Value by Home Type', fontsize=16)\n",
        "plt.xlabel('Home Type', fontsize=12)\n",
        "plt.ylabel('Living Area Value', fontsize=12)\n",
        "\n",
        "# Step 4: Rotate x-axis labels for better readability\n",
        "plt.xticks(rotation=45)\n",
        "\n",
        "# Step 5: Show the plot\n",
        "plt.show()\n",
        "\n",
        "# Step 1: Group by 'homeType' and describe 'livingAreaValue'\n",
        "living_area_stats_by_homeType = data.groupby('homeType')['livingAreaValue'].describe()\n",
        "\n",
        "\n",
        "# Step 2: Display the result\n",
        "print(living_area_stats_by_homeType)\n",
        "\n",
        "# Step 1: Impute missing values in 'livingAreaValue' using the mean within each 'homeType' group\n",
        "# data['livingAreaValue'] = data.groupby('homeType')['livingAreaValue'].transform(lambda x: x.fillna(x.mean()))\n",
        "\n",
        "# Verify the imputation by checking if there are any missing values left\n",
        "# print(data['livingAreaValue'].isnull().sum())  # Should return 0 if all missing values were imputed\n"
      ],
      "metadata": {
        "id": "s3uEUTMHw5N-"
      },
      "execution_count": null,
      "outputs": []
    },
    {
      "cell_type": "code",
      "source": [
        "# finding the outliers by defining the following variables\n",
        "NUM_SMALLEST = 20\n",
        "NUM_LARGEST = 20\n",
        "\n",
        "# Step 1: Filter out rows where 'livingAreaValue' is zero\n",
        "non_zero_living_area = data[data['livingAreaValue'] > 0]\n",
        "\n",
        "# Step 2: Sort the data by 'homeType' and 'livingAreaValue'\n",
        "sorted_data = non_zero_living_area.sort_values(by=['homeType', 'livingAreaValue'])\n",
        "\n",
        "# Step 3: Group by 'homeType'\n",
        "grouped_data = sorted_data.groupby('homeType')\n",
        "\n",
        "# Step 4: Iterate over each homeType and print the smallest and largest values\n",
        "for home_type, group in grouped_data:\n",
        "    # Find the  NUM_SMALLEST non-zero values\n",
        "    num_smallest = group['livingAreaValue'].head(NUM_SMALLEST).tolist()\n",
        "\n",
        "    # Find the NUM_LARGEST values\n",
        "    num_largest = group['livingAreaValue'].tail(NUM_LARGEST).tolist()\n",
        "\n",
        "    # Print the results for each homeType\n",
        "    print(f\"\\nHome Type: {home_type}\")\n",
        "    print(f\"{NUM_SMALLEST} Smallest Non-Zero Values: {num_smallest}\")\n",
        "    print(f\"{NUM_LARGEST} Largest Values: {num_largest}\")"
      ],
      "metadata": {
        "id": "N7dLwtDO1ocU"
      },
      "execution_count": null,
      "outputs": []
    },
    {
      "cell_type": "markdown",
      "source": [
        "# QUESTION: How to fill in the zero values for livingAreaValue column?"
      ],
      "metadata": {
        "id": "Z5SoD6oR5Zsl"
      }
    },
    {
      "cell_type": "markdown",
      "source": [
        "### Analyze relationship b/w parking, hasGarage and garageSpaces column for duplication"
      ],
      "metadata": {
        "id": "vGX9Nk4hoPqh"
      }
    },
    {
      "cell_type": "code",
      "source": [
        "# Compare the 'parking' and 'hasGarage' columns to find differences\n",
        "differences = data[data['parking'] != data['hasGarage']]\n",
        "\n",
        "# Print the number of rows where differences exist\n",
        "num_differences = differences.shape[0]\n",
        "print(f\"Number of rows where 'parking' and 'hasGarage' differ: {num_differences}\")\n",
        "\n",
        "# Print the rows where 'parking' and 'hasGarage' are different\n",
        "print(differences[['parking', 'hasGarage']])\n",
        "\n",
        "# Filter rows where 'hasGarage' is non-zero (True), 'garageSpaces' is non-zero, but 'parking' is zero\n",
        "rows_with_parking_issues = data[(data['hasGarage'] != 0) & (data['garageSpaces'] > 0) & (data['parking'] == 0)]\n",
        "\n",
        "# Print the number of rows that meet the condition\n",
        "num_issues = rows_with_parking_issues.shape[0]\n",
        "print(f\"Number of rows where 'hasGarage' and 'garageSpaces' are non-zero but 'parking' is zero: {num_issues}\")\n",
        "\n",
        "# Display the rows with the parking issue\n",
        "print(rows_with_parking_issues[['hasGarage', 'garageSpaces', 'parking']])\n",
        "\n",
        "# Update rows where 'parking' is 0, 'hasGarage' is 1 (True), and 'garageSpaces' is non-zero\n",
        "data.loc[(data['parking'] == 0) & ((data['hasGarage'] == 1) | (data['garageSpaces'] > 0)), 'parking'] = 1\n",
        "\n"
      ],
      "metadata": {
        "id": "PcAbbwLrT5tq"
      },
      "execution_count": null,
      "outputs": []
    },
    {
      "cell_type": "code",
      "source": [
        "# Verify if there are any rows where 'hasGarage' is non-zero (True), 'garageSpaces' is non-zero, but 'parking' is zero\n",
        "rows_with_parking_issues = data[(data['hasGarage'] != 0) & (data['garageSpaces'] > 0) & (data['parking'] == 0)]\n",
        "\n",
        "# Print the number of rows that meet the condition\n",
        "num_issues = rows_with_parking_issues.shape[0]\n",
        "print(f\"Number of rows where 'hasGarage' and 'garageSpaces' are non-zero but 'parking' is zero: {num_issues}\")"
      ],
      "metadata": {
        "id": "I3L-RCIVr4Sc"
      },
      "execution_count": null,
      "outputs": []
    },
    {
      "cell_type": "markdown",
      "source": [
        "### Analyze relationship b/w hasGarage and garageSpaces for duplication"
      ],
      "metadata": {
        "id": "Gz9qHPTMsT-s"
      }
    },
    {
      "cell_type": "code",
      "source": [
        "# Identify rows where 'hasGarage' is True (or non-zero) but 'garageSpaces' is zero or null\n",
        "garage_issues = data[(data['hasGarage'] != 0) & ((data['garageSpaces'] == 0) | (data['garageSpaces'].isnull()))]\n",
        "\n",
        "# Print the number of instances where 'hasGarage' is non-zero but 'garageSpaces' is zero or null\n",
        "num_issues = garage_issues.shape[0]\n",
        "print(f\"Number of rows where 'hasGarage' is non-zero but 'garageSpaces' is zero or null: {num_issues}\")\n",
        "\n",
        "# Print the problematic rows\n",
        "print(garage_issues[['hasGarage', 'garageSpaces']])"
      ],
      "metadata": {
        "id": "IZQUZ7l8Wp8A"
      },
      "execution_count": null,
      "outputs": []
    },
    {
      "cell_type": "code",
      "source": [
        "import matplotlib.pyplot as plt\n",
        "\n",
        "# Compare the instances where hasGarage is true and garageSpaces is non zero and create bar chart of these values against homeType.\n",
        "# Step 1: Filter where 'hasGarage' is True and 'garageSpaces' is non-zero\n",
        "filtered_data = data[(data['hasGarage'] == True) & (data['garageSpaces'] > 0)]\n",
        "\n",
        "# Step 2: Group by 'homeType' and 'garageSpaces', and count occurrences\n",
        "garage_spaces_counts = filtered_data.groupby(['homeType', 'garageSpaces']).size().unstack(fill_value=0)\n",
        "\n",
        "# Step 3: Create a stacked bar chart to show the distribution of 'garageSpaces' per 'homeType'\n",
        "garage_spaces_counts.plot(kind='bar', stacked=True, figsize=(12, 8), colormap='Set3')\n",
        "\n",
        "# Add chart labels and title\n",
        "plt.title('Distribution of Garage Spaces by Home Type (where hasGarage is True and garageSpaces > 0)', fontsize=16)\n",
        "plt.xlabel('Home Type', fontsize=12)\n",
        "plt.ylabel('Number of Homes', fontsize=12)\n",
        "\n",
        "# Show the plot\n",
        "plt.xticks(rotation=45)\n",
        "plt.show()\n"
      ],
      "metadata": {
        "id": "JwbQIIERdsgs"
      },
      "execution_count": null,
      "outputs": []
    },
    {
      "cell_type": "code",
      "source": [
        "# Step 1: Filter where 'hasGarage' is True and 'garageSpaces' is non-zero\n",
        "filtered_data = data[(data['hasGarage'] == True) & (data['garageSpaces'] > 0)]\n",
        "print(\"Number of instances when 'hasGarage' is True and 'garageSpaces' is non-zero' = \", filtered_data.shape[0])\n",
        "\n",
        "# Step 2: Group by 'homeType' and 'garageSpaces' (limit the values to 1, 2, 3, 4 for this case)\n",
        "garage_spaces_filtered = filtered_data[filtered_data['garageSpaces'].isin([1, 2, 3, 4])]\n",
        "print(\"Number of instances when 'hasGarage' is True and 'garageSpaces' is 1, 2, 3 or 4' = \", garage_spaces_filtered.shape[0])\n",
        "\n",
        "# Step 3: Group by 'homeType' and 'garageSpaces', and count occurrences\n",
        "garage_spaces_counts = garage_spaces_filtered.groupby(['homeType', 'garageSpaces']).size().unstack(fill_value=0)\n",
        "\n",
        "# Step 4: Create a stacked bar chart with distinct colors for garageSpaces values\n",
        "garage_spaces_counts[[1, 2, 3, 4]].plot(kind='bar', stacked=True, figsize=(12, 8),\n",
        "                                     color=['#FF9999', '#66B2FF', '#99FF99', '#FFF999'])\n",
        "\n",
        "# Add chart labels and title\n",
        "plt.title('Distribution of Garage Spaces (1, 2, 3 or 4) by Home Type', fontsize=16)\n",
        "plt.xlabel('Home Type', fontsize=12)\n",
        "plt.ylabel('Number of Homes', fontsize=12)\n",
        "\n",
        "# Add a legend to specify garage spaces\n",
        "plt.legend(title='Garage Spaces', loc='upper right')\n",
        "\n",
        "# Show the plot\n",
        "plt.xticks(rotation=45)\n",
        "plt.show()\n",
        "\n",
        "# Step 1: Filter only the relevant columns (garageSpaces 1, 2, 3 or 4)\n",
        "garage_spaces_filtered_counts = garage_spaces_counts[[1, 2, 3, 4]]\n",
        "\n",
        "# Step 2: Sum the values for garageSpaces 1, 2, 3 and 4 across all home types\n",
        "total_instances = garage_spaces_filtered_counts.sum().sum()\n",
        "\n",
        "# Print the total number of instances where garageSpaces are 1, 2, 3 or 4\n",
        "print(f\"Total instances where garageSpaces are 1, 2, 3 or 4: {total_instances}\")\n"
      ],
      "metadata": {
        "id": "9hY4jv23hrPP"
      },
      "execution_count": null,
      "outputs": []
    },
    {
      "cell_type": "code",
      "source": [
        "# Step 1: Filter where 'hasGarage' is True and 'garageSpaces' is non-zero\n",
        "filtered_data = data[(data['hasGarage'] == True) & (data['garageSpaces'] > 0)]\n",
        "\n",
        "# Step 2: Group by 'homeType' and calculate the count and the mean garage spaces\n",
        "homeType_counts = filtered_data.groupby('homeType').size()\n",
        "homeType_avg_spaces = filtered_data.groupby('homeType')['garageSpaces'].mean()\n",
        "print(\"Average garage spaces by homeType\", homeType_avg_spaces)\n",
        "\n",
        "# rounding the average garage spaces by homeType to the nearest 0.5\n",
        "homeType_avg_spaces = round(homeType_avg_spaces*2)/2\n",
        "print(\"Rounded average garage spaces by homeType to the nearest 0.5 \", homeType_avg_spaces)\n",
        "\n",
        "# Step 3: Create the bar chart with annotations\n",
        "plt.figure(figsize=(10, 6))\n",
        "bars = plt.bar(homeType_counts.index, homeType_counts.values, color='skyblue')\n",
        "\n",
        "# Annotate the bars with the average garage spaces\n",
        "for bar, avg_space in zip(bars, homeType_avg_spaces):\n",
        "    yval = bar.get_height()\n",
        "    plt.text(bar.get_x() + bar.get_width()/2, yval, f'Avg: {avg_space:.1f}', ha='center', va='bottom')\n",
        "\n",
        "# Add chart labels and title\n",
        "plt.title('Count of Homes with Garage and Non-zero Garage Spaces by Home Type', fontsize=16)\n",
        "plt.xlabel('Home Type', fontsize=12)\n",
        "plt.ylabel('Number of Homes', fontsize=12)\n",
        "\n",
        "# Show the plot\n",
        "plt.xticks(rotation=45)\n",
        "plt.show()"
      ],
      "metadata": {
        "id": "pMwPn-fmgmAh"
      },
      "execution_count": null,
      "outputs": []
    },
    {
      "cell_type": "code",
      "source": [
        "# Step 1: Filter where 'hasGarage' is True and 'garageSpaces' is zero\n",
        "filtered_data_zero_garage = data[(data['hasGarage'] == True) & (data['garageSpaces'] == 0)]\n",
        "print(\"Number of instances when 'hasGarage' is True and 'garageSpaces' is zero' = \", filtered_data_zero_garage.shape[0])\n",
        "\n",
        "# Step 2: Group by 'homeType' and count the occurrences\n",
        "homeType_zero_garage_counts = filtered_data_zero_garage.groupby('homeType').size()\n",
        "print(\"homeType_zero_garage_counts = \", homeType_zero_garage_counts)\n",
        "\n",
        "# Step 3: Create a bar chart to visualize the counts\n",
        "plt.figure(figsize=(10, 6))\n",
        "homeType_zero_garage_counts.plot(kind='bar', color='orange')\n",
        "\n",
        "# Add chart labels and title\n",
        "plt.title('Homes with Garage but Zero Garage Spaces by Home Type', fontsize=16)\n",
        "plt.xlabel('Home Type', fontsize=12)\n",
        "plt.ylabel('Number of Homes', fontsize=12)\n",
        "\n",
        "# Show the plot\n",
        "plt.xticks(rotation=45)\n",
        "plt.show()"
      ],
      "metadata": {
        "id": "BF0Dvg9DfOKm"
      },
      "execution_count": null,
      "outputs": []
    },
    {
      "cell_type": "code",
      "source": [
        "# Step 1: Calculate the mean garageSpaces for each homeType where garageSpaces > 0, rounded to the nearest 0.5\n",
        "homeType_avg_spaces = data[data['garageSpaces'] > 0].groupby('homeType')['garageSpaces'].mean()\n",
        "\n",
        "# Step 2: Round the mean values to the nearest 0.5\n",
        "homeType_avg_spaces = homeType_avg_spaces.apply(lambda x: round(x * 2) / 2)\n",
        "print(\"homeType_avg_spaces = \", homeType_avg_spaces)\n",
        "\n",
        "# Step 3: Update garageSpaces to the rounded mean value where hasGarage is 1 and garageSpaces is 0\n",
        "data.loc[(data['hasGarage'] == 1) & (data['garageSpaces'] == 0), 'garageSpaces'] = data['homeType'].map(homeType_avg_spaces)\n",
        "\n",
        "# Verify the update by printing the affected rows\n",
        "updated_rows = data[(data['hasGarage'] == 1) & (data['garageSpaces'] != 0)]\n",
        "print(updated_rows[['homeType', 'hasGarage', 'garageSpaces']].head())"
      ],
      "metadata": {
        "id": "xgp8p9Jsdsde"
      },
      "execution_count": null,
      "outputs": []
    },
    {
      "cell_type": "code",
      "source": [
        "# check if there are any rows where hasGarage is 1 but garageSpaces is zero\n",
        "rows_with_zero_garage_spaces = data[(data['hasGarage'] == 1) & (data['garageSpaces'] == 0)]\n",
        "\n",
        "# Print the number of rows with zero\n",
        "num_rows_with_zero_garage_spaces = rows_with_zero_garage_spaces.shape[0]\n",
        "print(f\"Number of rows where 'hasGarage' is True and 'garageSpaces' is zero: {num_rows_with_zero_garage_spaces}\")\n",
        "\n",
        "# check if there are any rows where garageSpaces is non-zero but hasGarage is 0\n",
        "rows_with_non_zero_garage_spaces = data[(data['hasGarage'] == 0) & (data['garageSpaces'] > 0)]\n",
        "\n",
        "# Print the number of rows with non-zero garageSpaces and hasGarage is 0\n",
        "num_rows_with_non_zero_garage_spaces = rows_with_non_zero_garage_spaces.shape[0]\n",
        "print(f\"Number of rows where 'hasGarage' is False and 'garageSpaces' is non-zero: {num_rows_with_non_zero_garage_spaces}\")\n",
        "\n",
        "\n",
        "# now that garageSpaces column has been fixed (imputed) we can now drop hasGarage column and we can ignore the cases where hasGarage is False even when garageSpaces is non-zero\n",
        "columns_to_drop.append('hasGarage')\n",
        "\n",
        "print(\"\\nRunnnig List of columns to drop:\")\n",
        "print(columns_to_drop)\n",
        "print(\"\\n\")"
      ],
      "metadata": {
        "id": "_4Pi73x6xFV-"
      },
      "execution_count": null,
      "outputs": []
    },
    {
      "cell_type": "code",
      "source": [],
      "metadata": {
        "id": "UG1N9IcwxFYS"
      },
      "execution_count": null,
      "outputs": []
    },
    {
      "cell_type": "markdown",
      "source": [
        "# Identify columns to be morphed\n",
        "\n",
        "This would be considered as part of feature engineering:\n",
        "\n",
        "1. Morphing datePostedString column to Seasons for the following reasons - based on general market trends:\n",
        "  * Winter (December - February): Typically slower period for real estate, as fewer people are buying during holiday and colder months. This would imply potential for slightly lower prices due to lower demand.\n",
        "  * Spring (March - May): Busiest season for real estate, as many families look to buy before summer and weather is pleasant. This would imply high demand, and higher prices.\n",
        "  * Summer (June - August): Continued high demand as families try to close on homes before school year starts leading to competitive market, higher prices.\n",
        "  * Fall (September - November): Slowdown in activity as families settle into school year and holiday season approaches. This would imply fewer listings, potential for deals."
      ],
      "metadata": {
        "id": "xmqIUmANDo_N"
      }
    },
    {
      "cell_type": "code",
      "source": [
        "# Check for null values in the 'datePosted' column\n",
        "null_values_count = data['datePostedString'].isnull().sum()\n",
        "\n",
        "# Print the number of null values\n",
        "print(f\"Number of null values in 'datePosted': {null_values_count}\")"
      ],
      "metadata": {
        "id": "ymmwup_HBKrc"
      },
      "execution_count": null,
      "outputs": []
    },
    {
      "cell_type": "code",
      "source": [
        "# Drop rows with null values in 'datePostedString' and modify the original DataFrame in place\n",
        "data.dropna(subset=['datePostedString'], inplace=True)\n",
        "\n",
        "# Check if any null values remain in 'datePostedString'\n",
        "print(data['datePostedString'].isnull().sum())\n"
      ],
      "metadata": {
        "id": "hFQjwjDEG5tq"
      },
      "execution_count": null,
      "outputs": []
    },
    {
      "cell_type": "code",
      "source": [
        "# Convert 'datePostedString' to datetime if it's not already\n",
        "data['datePostedString'] = pd.to_datetime(data['datePostedString'])\n",
        "\n",
        "# Define a function to categorize seasons\n",
        "def get_season(month):\n",
        "    if month in [12, 1, 2]:\n",
        "        return 'Winter'\n",
        "    elif month in [3, 4, 5]:\n",
        "        return 'Spring'\n",
        "    elif month in [6, 7, 8]:\n",
        "        return 'Summer'\n",
        "    elif month in [9, 10, 11]:\n",
        "        return 'Fall'\n",
        "\n",
        "# Apply the function to create a 'season' column\n",
        "data['season'] = data['datePostedString'].dt.month.apply(get_season)\n",
        "\n",
        "# Now you can use this 'season' feature in your prediction model\n",
        "print(data[['datePostedString', 'season']].head())\n",
        "\n",
        "# Group by the 'season' column and count the number of instances for each season\n",
        "season_counts = data['season'].value_counts()\n",
        "\n",
        "# Print the count of listings for each season\n",
        "print(season_counts)\n",
        "\n",
        "# print total entries in season_counts\n",
        "print(f\"\\nTotal entries in season_counts: {len(season_counts)}\")\n",
        "\n",
        "# print sum of values in season_counts\n",
        "print(f\"\\nSum of values in season_counts: {season_counts.sum()}\")\n",
        "\n",
        "# Add datePostedString to list of columns to be dropped\n",
        "columns_to_drop.append('datePostedString')\n",
        "\n",
        "print(\"\\nRunnnig List of columns to drop:\")\n",
        "print(columns_to_drop)\n",
        "print(\"\\n\")\n"
      ],
      "metadata": {
        "id": "AcseKOds_PVH"
      },
      "execution_count": null,
      "outputs": []
    },
    {
      "cell_type": "markdown",
      "source": [
        "# Dropping columns identified thus far as candidates for dropping"
      ],
      "metadata": {
        "id": "QRJJ47GIHzVn"
      }
    },
    {
      "cell_type": "code",
      "source": [
        "# Drop those columns from the dataset\n",
        "data_cleaned = data.drop(columns=columns_to_drop)\n",
        "\n",
        "# Show the cleaned dataset with the columns dropped\n",
        "print(\"Dataset after dropping columns based an analysis:\")\n",
        "print(data_cleaned.head())"
      ],
      "metadata": {
        "id": "xJmFC-z_883Q"
      },
      "execution_count": null,
      "outputs": []
    },
    {
      "cell_type": "markdown",
      "source": [
        "# Cleaning Rows\n",
        "\n",
        "After dropping columns, next step is to clean the rows.\n",
        "\n",
        "This would include the following:\n",
        "* Identify duplicate rows using duplicated street addresses\n",
        "* Identify rows whose values need to be updated e.g.\n",
        "  1. Column \"homeType\" has one row which has value \"APARTMENT\" --> this should be changed to \"CONDO\" --> addressed in Step 2b earlier\n",
        "  2. Column event has 5 rows which has value \"Listed for rent\"\n",
        "* Identify rows where price (intended model output) is missing --> these rows should be deleted\n",
        "*\n",
        "\n",
        "\n",
        "\n"
      ],
      "metadata": {
        "id": "kDCl2DJDdt9b"
      }
    },
    {
      "cell_type": "code",
      "source": [
        "# Step 1: Check for duplicates in 'streetAddress' and 'price' columns\n",
        "duplicates = data_cleaned[data_cleaned.duplicated(subset=['streetAddress', 'price'], keep=False)]\n",
        "\n",
        "# Step 2: Print the number of duplicate entries\n",
        "num_duplicates = duplicates.shape[0]\n",
        "print(f\"Number of duplicate entries where both 'streetAddress' and 'price' are identical: {num_duplicates}\")\n",
        "\n",
        "# Step 3: Remove the duplicate entries (keeping only the first occurrence)\n",
        "data_cleaned = data_cleaned.drop_duplicates(subset=['streetAddress', 'price'], keep='first')\n",
        "\n",
        "# Step 4: Verify the removal by checking the number of remaining duplicates\n",
        "remaining_duplicates = data_cleaned[data_cleaned.duplicated(subset=['streetAddress', 'price'], keep=False)].shape[0]\n",
        "print(f\"Number of duplicates after removal: {remaining_duplicates}\")\n",
        "\n",
        "data_cleaned.info()"
      ],
      "metadata": {
        "id": "ykckIoVHp5LU"
      },
      "execution_count": null,
      "outputs": []
    },
    {
      "cell_type": "code",
      "source": [
        "# Identify instances of rows which have no price listed\n",
        "\n",
        "# First ensure that all values in the 'price' column are converted to numeric\n",
        "data_cleaned['price'] = pd.to_numeric(data['price'], errors='coerce')\n",
        "\n",
        "# Identify count of rows with missing values or ZERO values in the 'price' column\n",
        "no_price = data_cleaned[data_cleaned['price'].isna() | (data_cleaned['price'] == 0) | (data_cleaned['price'] < 100)]\n",
        "\n",
        "# Print count of no_price\n",
        "print(\"Count of rows with no price listed:\")\n",
        "print(len(no_price))  # Print the count of rows with no price listed\n",
        "\n"
      ],
      "metadata": {
        "id": "qeNHmn0SLgTq"
      },
      "execution_count": null,
      "outputs": []
    },
    {
      "cell_type": "code",
      "source": [
        "# Drop rows with zero price or price < 100\n",
        "data_cleaned.drop(data_cleaned[data_cleaned['price'] == 0].index, inplace=True)\n",
        "data_cleaned.drop(data_cleaned[data_cleaned['price'] < 100].index, inplace=True)\n"
      ],
      "metadata": {
        "id": "ted7DRPMTHVX"
      },
      "execution_count": null,
      "outputs": []
    },
    {
      "cell_type": "code",
      "source": [
        "# Identify columns with missing values\n",
        "\n",
        "# Identify columns with missing values\n",
        "missing_values = data_cleaned.isnull().sum()\n",
        "\n",
        "# Filter the columns that have missing values\n",
        "columns_with_missing_values = missing_values[missing_values > 0]\n",
        "\n",
        "# Print the columns with missing values and the count of missing values\n",
        "print(\"Columns with missing values and counts of missing values:\")\n",
        "print(columns_with_missing_values)"
      ],
      "metadata": {
        "id": "FKgSyIbqKF83"
      },
      "execution_count": null,
      "outputs": []
    },
    {
      "cell_type": "code",
      "source": [
        "# Get the describe output as a DataFrame\n",
        "desc_stats = data_cleaned.describe()\n",
        "\n",
        "# Apply formatting to the interested columns\n",
        "desc_stats['price'] = desc_stats['price'].apply(lambda x: '{:.0f}'.format(x))\n",
        "desc_stats['livingArea'] = desc_stats['livingArea'].apply(lambda x: '{:.0f}'.format(x))\n",
        "desc_stats['bedrooms'] = desc_stats['bedrooms'].apply(lambda x: '{:.0f}'.format(x))\n",
        "desc_stats['bathrooms'] = desc_stats['bathrooms'].apply(lambda x: '{:.0f}'.format(x))\n",
        "\n",
        "\n",
        "selected_columns = desc_stats[['price', 'livingArea', 'bedrooms', 'bathrooms']]\n",
        "# Print the formatted describe output\n",
        "print(selected_columns)"
      ],
      "metadata": {
        "id": "SOOPNk-XJ81y"
      },
      "execution_count": null,
      "outputs": []
    },
    {
      "cell_type": "code",
      "source": [
        "import matplotlib.pyplot as plt\n",
        "\n",
        "# Plotting the distribution of housing prices\n",
        "plt.hist(data_cleaned['price'], bins=50, edgecolor='black')\n",
        "plt.title('Distribution of Housing Prices')\n",
        "plt.xlabel('Price')\n",
        "plt.ylabel('Frequency')\n",
        "plt.show()\n"
      ],
      "metadata": {
        "id": "m1_be0BmEgUf"
      },
      "execution_count": null,
      "outputs": []
    },
    {
      "cell_type": "code",
      "source": [
        "import numpy as np\n",
        "\n",
        "# Apply log transformation to prices to reduce skewness\n",
        "log_prices = np.log1p(data_cleaned['price'])  # np.log1p ensures log(0) works properly\n",
        "\n",
        "# Plotting the log-transformed distribution of housing prices\n",
        "plt.hist(log_prices, bins=50, edgecolor='black')\n",
        "plt.title('Log-Transformed Distribution of Housing Prices')\n",
        "plt.xlabel('Log(Price)')\n",
        "plt.ylabel('Frequency')\n",
        "plt.show()"
      ],
      "metadata": {
        "id": "dw-u9OOsIUbb"
      },
      "execution_count": null,
      "outputs": []
    },
    {
      "cell_type": "code",
      "source": [
        "# Scatter plot for living area vs price\n",
        "plt.scatter(data_cleaned['livingArea'], data_cleaned['price'])\n",
        "plt.title('Living Area vs Housing Price')\n",
        "plt.xlabel('Living Area (sq ft)')\n",
        "plt.ylabel('Price')\n",
        "plt.show()"
      ],
      "metadata": {
        "id": "81W2JCBwFA0l"
      },
      "execution_count": null,
      "outputs": []
    },
    {
      "cell_type": "code",
      "source": [
        "# Box plot for home type vs price\n",
        "sns.boxplot(x='homeType', y='price', data=data_cleaned)\n",
        "plt.title('Home Type vs Housing Price')\n",
        "plt.show()"
      ],
      "metadata": {
        "id": "4tpM4zwZFMVZ"
      },
      "execution_count": null,
      "outputs": []
    },
    {
      "cell_type": "code",
      "source": [
        "# box plot of housing prices\n",
        "\n",
        "import seaborn as sns\n",
        "sns.boxplot(x=data_cleaned['price'])\n",
        "plt.title('Box Plot of Housing Prices')\n",
        "plt.show()"
      ],
      "metadata": {
        "id": "0jo419zNF40L"
      },
      "execution_count": null,
      "outputs": []
    }
  ]
}